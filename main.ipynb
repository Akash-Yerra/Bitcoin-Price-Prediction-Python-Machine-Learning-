{
 "cells": [
  {
   "cell_type": "code",
   "execution_count": null,
   "id": "3e1808be-289a-44bf-ad90-2f2fcb578a10",
   "metadata": {},
   "outputs": [],
   "source": [
    "# file: main.py\n",
    "import pickle\n",
    "import import_ipynb\n",
    "from data_collection import fetch_bitcoin_data, scrape_bitcoin_news\n",
    "from data_preprocessing import preprocess_data\n",
    "from model_training import train_linear_regression, train_random_forest, train_lstm\n",
    "from model_evaluation import evaluate_model\n",
    "\n",
    "# 1️⃣ Collect Data\n",
    "print(\"Fetching Bitcoin data...\")\n",
    "df = fetch_bitcoin_data()\n",
    "print(\"Scraping Bitcoin news...\")\n",
    "news = scrape_bitcoin_news()\n",
    "print(\"Latest Bitcoin News:\", news)\n",
    "\n",
    "# 2️⃣ Preprocess Data\n",
    "print(\"Preprocessing Data...\")\n",
    "X_train, X_test, y_train, y_test = preprocess_data(\"bitcoin_data.csv\")\n",
    "\n",
    "# 3️⃣ Train Models\n",
    "print(\"Training Linear Regression Model...\")\n",
    "lr_model = train_linear_regression(X_train, y_train)\n",
    "\n",
    "print(\"Training Random Forest Model...\")\n",
    "rf_model = train_random_forest(X_train, y_train)\n",
    "\n",
    "print(\"Training LSTM Model...\")\n",
    "lstm_model = train_lstm(X_train.reshape(-1, 1, 1), y_train)\n",
    "\n",
    "# 4️⃣ Evaluate Models\n",
    "print(\"\\nEvaluating Linear Regression Model:\")\n",
    "evaluate_model(lr_model, X_test, y_test)\n",
    "\n",
    "print(\"\\nEvaluating Random Forest Model:\")\n",
    "evaluate_model(rf_model, X_test, y_test)\n",
    "\n",
    "# 5️⃣ Save Best Model\n",
    "best_model = rf_model  # Assume Random Forest is best (can be changed)\n",
    "pickle.dump(best_model, open(\"bitcoin_model.pkl\", \"wb\"))\n",
    "print(\"Best model saved as 'bitcoin_model.pkl'\")\n",
    "\n",
    "print(\"\\n🚀 Training and evaluation completed. Run 'app.py' to deploy the model!\")\n"
   ]
  },
  {
   "cell_type": "code",
   "execution_count": null,
   "id": "aba52a35-c4f1-4b23-b4d1-a233da9ba75c",
   "metadata": {},
   "outputs": [],
   "source": []
  }
 ],
 "metadata": {
  "kernelspec": {
   "display_name": "Python 3 (ipykernel)",
   "language": "python",
   "name": "python3"
  },
  "language_info": {
   "codemirror_mode": {
    "name": "ipython",
    "version": 3
   },
   "file_extension": ".py",
   "mimetype": "text/x-python",
   "name": "python",
   "nbconvert_exporter": "python",
   "pygments_lexer": "ipython3",
   "version": "3.11.7"
  }
 },
 "nbformat": 4,
 "nbformat_minor": 5
}
