{
 "cells": [
  {
   "cell_type": "code",
   "execution_count": 1,
   "id": "7927885e-3a2d-4b09-8ceb-7cd3fb8a2512",
   "metadata": {},
   "outputs": [],
   "source": [
    "\n",
    "# file: data_preprocessing.py\n",
    "import pandas as pd\n",
    "import numpy as np\n",
    "from sklearn.preprocessing import MinMaxScaler\n",
    "from sklearn.model_selection import train_test_split\n",
    "\n",
    "def preprocess_data(file_path):\n",
    "    df = pd.read_csv(file_path, index_col=0, parse_dates=True)\n",
    "    df['Day'] = np.arange(len(df))\n",
    "    X = df[['Day']]\n",
    "    y = df['Close']\n",
    "    scaler = MinMaxScaler()\n",
    "    X_scaled = scaler.fit_transform(X)\n",
    "    return train_test_split(X_scaled, y, test_size=0.2, random_state=42)\n"
   ]
  },
  {
   "cell_type": "code",
   "execution_count": null,
   "id": "61696baf-f716-4551-b1ac-97696721bd76",
   "metadata": {},
   "outputs": [],
   "source": []
  }
 ],
 "metadata": {
  "kernelspec": {
   "display_name": "Python 3 (ipykernel)",
   "language": "python",
   "name": "python3"
  },
  "language_info": {
   "codemirror_mode": {
    "name": "ipython",
    "version": 3
   },
   "file_extension": ".py",
   "mimetype": "text/x-python",
   "name": "python",
   "nbconvert_exporter": "python",
   "pygments_lexer": "ipython3",
   "version": "3.11.7"
  }
 },
 "nbformat": 4,
 "nbformat_minor": 5
}
