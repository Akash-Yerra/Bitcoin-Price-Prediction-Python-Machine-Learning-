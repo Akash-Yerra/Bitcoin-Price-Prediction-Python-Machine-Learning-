{
 "cells": [
  {
   "cell_type": "code",
   "execution_count": null,
   "id": "673f59cb-6cbb-4fc1-9951-9a47c714a0af",
   "metadata": {},
   "outputs": [],
   "source": [
    "\n",
    "# file: app.py\n",
    "from flask import Flask, request, jsonify\n",
    "import pickle\n",
    "import numpy as np\n",
    "app = Flask(__name__)\n",
    "model = pickle.load(open('bitcoin_model.pkl', 'rb'))\n",
    "@app.route('/predict', methods=['POST'])\n",
    "def predict():\n",
    "    data = request.get_json()\n",
    "    day = np.array(data['day']).reshape(-1, 1)\n",
    "    prediction = model.predict(day)\n",
    "    return jsonify({'predicted_price': prediction.tolist()})\n",
    "if __name__ == '__main__':\n",
    "    app.run(debug=True)\n"
   ]
  }
 ],
 "metadata": {
  "kernelspec": {
   "display_name": "Python 3 (ipykernel)",
   "language": "python",
   "name": "python3"
  },
  "language_info": {
   "codemirror_mode": {
    "name": "ipython",
    "version": 3
   },
   "file_extension": ".py",
   "mimetype": "text/x-python",
   "name": "python",
   "nbconvert_exporter": "python",
   "pygments_lexer": "ipython3",
   "version": "3.11.7"
  }
 },
 "nbformat": 4,
 "nbformat_minor": 5
}
