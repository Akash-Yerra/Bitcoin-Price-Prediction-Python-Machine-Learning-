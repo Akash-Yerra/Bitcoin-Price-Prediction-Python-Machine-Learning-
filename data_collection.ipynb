{
 "cells": [
  {
   "cell_type": "code",
   "execution_count": 1,
   "id": "1155bcae-3751-4f5b-ae9c-369e35df5dd3",
   "metadata": {},
   "outputs": [
    {
     "name": "stdout",
     "output_type": "stream",
     "text": [
      "YF.download() has changed argument auto_adjust default to True\n"
     ]
    },
    {
     "name": "stderr",
     "output_type": "stream",
     "text": [
      "[*********************100%***********************]  1 of 1 completed\n"
     ]
    },
    {
     "name": "stdout",
     "output_type": "stream",
     "text": [
      "Latest Bitcoin News: ['Latest Crypto News', 'Top Stories', 'Kava Unveils the Largest Decentralized AI Model, Ushering in a New Era for the Crypto x AI Space', \"Bitcoin Jumps Above $91K After Trump's U.S. Crypto Reserve News Brings Bulls Back\", 'Bitcoin ETFs Finally Snap Eight-Day $3.2B Outflow Streak With $94.3M Inflows']\n"
     ]
    }
   ],
   "source": [
    "# file: data_collection.py\n",
    "import yfinance as yf\n",
    "import requests\n",
    "from bs4 import BeautifulSoup\n",
    "import pandas as pd\n",
    "\n",
    "def fetch_bitcoin_data():\n",
    "    df = yf.download('BTC-USD', start='2020-01-01', end='2024-01-01')\n",
    "    df.to_csv(\"bitcoin_data.csv\")\n",
    "    return df\n",
    "\n",
    "def scrape_bitcoin_news():\n",
    "    url = \"https://www.coindesk.com/\"\n",
    "    response = requests.get(url)\n",
    "    soup = BeautifulSoup(response.text, 'html.parser')\n",
    "    headlines = [h.text for h in soup.find_all('h2')][:5]\n",
    "    return headlines\n",
    "\n",
    "if __name__ == \"__main__\":\n",
    "    df = fetch_bitcoin_data()\n",
    "    news = scrape_bitcoin_news()\n",
    "    print(\"Latest Bitcoin News:\", news)\n"
   ]
  },
  {
   "cell_type": "code",
   "execution_count": 1,
   "id": "b2eb04a7-a466-41e5-a632-b4825f76a74e",
   "metadata": {},
   "outputs": [],
   "source": [
    "# pip install yfinance\n"
   ]
  },
  {
   "cell_type": "code",
   "execution_count": null,
   "id": "ab17d1b7-84c6-4584-bb45-e0121b6a1cb4",
   "metadata": {},
   "outputs": [],
   "source": []
  }
 ],
 "metadata": {
  "kernelspec": {
   "display_name": "Python 3 (ipykernel)",
   "language": "python",
   "name": "python3"
  },
  "language_info": {
   "codemirror_mode": {
    "name": "ipython",
    "version": 3
   },
   "file_extension": ".py",
   "mimetype": "text/x-python",
   "name": "python",
   "nbconvert_exporter": "python",
   "pygments_lexer": "ipython3",
   "version": "3.11.7"
  }
 },
 "nbformat": 4,
 "nbformat_minor": 5
}
